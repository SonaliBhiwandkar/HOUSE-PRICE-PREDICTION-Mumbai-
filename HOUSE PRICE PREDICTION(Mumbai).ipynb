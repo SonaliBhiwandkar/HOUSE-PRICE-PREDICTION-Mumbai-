{
 "cells": [
  {
   "cell_type": "code",
   "execution_count": 2,
   "id": "13c82255",
   "metadata": {},
   "outputs": [],
   "source": [
    "import numpy as np\n",
    "import pandas as pd\n",
    "import matplotlib.pyplot as plt\n",
    "%matplotlib inline"
   ]
  },
  {
   "cell_type": "code",
   "execution_count": 3,
   "id": "203ff740",
   "metadata": {},
   "outputs": [],
   "source": [
    "df=pd.read_csv(\"Mumbai House Prices.csv\")"
   ]
  },
  {
   "cell_type": "code",
   "execution_count": 4,
   "id": "b9f57cca",
   "metadata": {},
   "outputs": [
    {
     "data": {
      "text/html": [
       "<div>\n",
       "<style scoped>\n",
       "    .dataframe tbody tr th:only-of-type {\n",
       "        vertical-align: middle;\n",
       "    }\n",
       "\n",
       "    .dataframe tbody tr th {\n",
       "        vertical-align: top;\n",
       "    }\n",
       "\n",
       "    .dataframe thead th {\n",
       "        text-align: right;\n",
       "    }\n",
       "</style>\n",
       "<table border=\"1\" class=\"dataframe\">\n",
       "  <thead>\n",
       "    <tr style=\"text-align: right;\">\n",
       "      <th></th>\n",
       "      <th>bhk</th>\n",
       "      <th>type</th>\n",
       "      <th>locality</th>\n",
       "      <th>area</th>\n",
       "      <th>price</th>\n",
       "      <th>price_unit</th>\n",
       "      <th>region</th>\n",
       "      <th>status</th>\n",
       "      <th>age</th>\n",
       "    </tr>\n",
       "  </thead>\n",
       "  <tbody>\n",
       "    <tr>\n",
       "      <th>0</th>\n",
       "      <td>3</td>\n",
       "      <td>Apartment</td>\n",
       "      <td>Lak And Hanware The Residency Tower</td>\n",
       "      <td>685</td>\n",
       "      <td>2.50</td>\n",
       "      <td>Cr</td>\n",
       "      <td>Andheri West</td>\n",
       "      <td>Ready to move</td>\n",
       "      <td>New</td>\n",
       "    </tr>\n",
       "    <tr>\n",
       "      <th>1</th>\n",
       "      <td>2</td>\n",
       "      <td>Apartment</td>\n",
       "      <td>Radheya Sai Enclave Building No 2</td>\n",
       "      <td>640</td>\n",
       "      <td>52.51</td>\n",
       "      <td>L</td>\n",
       "      <td>Naigaon East</td>\n",
       "      <td>Under Construction</td>\n",
       "      <td>New</td>\n",
       "    </tr>\n",
       "    <tr>\n",
       "      <th>2</th>\n",
       "      <td>2</td>\n",
       "      <td>Apartment</td>\n",
       "      <td>Romell Serene</td>\n",
       "      <td>610</td>\n",
       "      <td>1.73</td>\n",
       "      <td>Cr</td>\n",
       "      <td>Borivali West</td>\n",
       "      <td>Under Construction</td>\n",
       "      <td>New</td>\n",
       "    </tr>\n",
       "    <tr>\n",
       "      <th>3</th>\n",
       "      <td>2</td>\n",
       "      <td>Apartment</td>\n",
       "      <td>Soundlines Codename Urban Rainforest</td>\n",
       "      <td>876</td>\n",
       "      <td>59.98</td>\n",
       "      <td>L</td>\n",
       "      <td>Panvel</td>\n",
       "      <td>Under Construction</td>\n",
       "      <td>New</td>\n",
       "    </tr>\n",
       "    <tr>\n",
       "      <th>4</th>\n",
       "      <td>2</td>\n",
       "      <td>Apartment</td>\n",
       "      <td>Origin Oriana</td>\n",
       "      <td>659</td>\n",
       "      <td>94.11</td>\n",
       "      <td>L</td>\n",
       "      <td>Mira Road East</td>\n",
       "      <td>Under Construction</td>\n",
       "      <td>New</td>\n",
       "    </tr>\n",
       "  </tbody>\n",
       "</table>\n",
       "</div>"
      ],
      "text/plain": [
       "   bhk       type                              locality  area  price  \\\n",
       "0    3  Apartment   Lak And Hanware The Residency Tower   685   2.50   \n",
       "1    2  Apartment     Radheya Sai Enclave Building No 2   640  52.51   \n",
       "2    2  Apartment                         Romell Serene   610   1.73   \n",
       "3    2  Apartment  Soundlines Codename Urban Rainforest   876  59.98   \n",
       "4    2  Apartment                         Origin Oriana   659  94.11   \n",
       "\n",
       "  price_unit          region              status  age  \n",
       "0         Cr    Andheri West       Ready to move  New  \n",
       "1          L    Naigaon East  Under Construction  New  \n",
       "2         Cr   Borivali West  Under Construction  New  \n",
       "3          L          Panvel  Under Construction  New  \n",
       "4          L  Mira Road East  Under Construction  New  "
      ]
     },
     "execution_count": 4,
     "metadata": {},
     "output_type": "execute_result"
    }
   ],
   "source": [
    "df.head()"
   ]
  },
  {
   "cell_type": "code",
   "execution_count": 5,
   "id": "ccf3191c",
   "metadata": {},
   "outputs": [
    {
     "data": {
      "text/plain": [
       "<bound method DataFrame.info of        bhk       type                              locality  area  price  \\\n",
       "0        3  Apartment   Lak And Hanware The Residency Tower   685   2.50   \n",
       "1        2  Apartment     Radheya Sai Enclave Building No 2   640  52.51   \n",
       "2        2  Apartment                         Romell Serene   610   1.73   \n",
       "3        2  Apartment  Soundlines Codename Urban Rainforest   876  59.98   \n",
       "4        2  Apartment                         Origin Oriana   659  94.11   \n",
       "...    ...        ...                                   ...   ...    ...   \n",
       "76033    3  Apartment                     Parinee Liva Roca  1527   7.00   \n",
       "76034    5  Apartment                     Parinee Liva Roca  3049  12.00   \n",
       "76035    4  Apartment                         Lodha Seaview  3313  10.00   \n",
       "76036    2  Apartment                        Hubtown Serene  1305   4.25   \n",
       "76037    5  Apartment              Sunteck Signature Island  5200  25.00   \n",
       "\n",
       "      price_unit                region              status      age  \n",
       "0             Cr          Andheri West       Ready to move      New  \n",
       "1              L          Naigaon East  Under Construction      New  \n",
       "2             Cr         Borivali West  Under Construction      New  \n",
       "3              L                Panvel  Under Construction      New  \n",
       "4              L        Mira Road East  Under Construction      New  \n",
       "...          ...                   ...                 ...      ...  \n",
       "76033         Cr                  Juhu       Ready to move  Unknown  \n",
       "76034         Cr                  Juhu       Ready to move  Unknown  \n",
       "76035         Cr        Napeansea Road       Ready to move  Unknown  \n",
       "76036         Cr           Bandra East       Ready to move  Unknown  \n",
       "76037         Cr  Bandra Kurla Complex       Ready to move  Unknown  \n",
       "\n",
       "[76038 rows x 9 columns]>"
      ]
     },
     "execution_count": 5,
     "metadata": {},
     "output_type": "execute_result"
    }
   ],
   "source": [
    "df.info"
   ]
  },
  {
   "cell_type": "code",
   "execution_count": 6,
   "id": "a9a4a360",
   "metadata": {},
   "outputs": [
    {
     "data": {
      "text/plain": [
       "(76038, 9)"
      ]
     },
     "execution_count": 6,
     "metadata": {},
     "output_type": "execute_result"
    }
   ],
   "source": [
    "df.shape"
   ]
  },
  {
   "cell_type": "code",
   "execution_count": 7,
   "id": "4411b475",
   "metadata": {},
   "outputs": [
    {
     "data": {
      "text/plain": [
       "Index(['bhk', 'type', 'locality', 'area', 'price', 'price_unit', 'region',\n",
       "       'status', 'age'],\n",
       "      dtype='object')"
      ]
     },
     "execution_count": 7,
     "metadata": {},
     "output_type": "execute_result"
    }
   ],
   "source": [
    "df.columns"
   ]
  },
  {
   "cell_type": "code",
   "execution_count": 8,
   "id": "a402d9c8",
   "metadata": {},
   "outputs": [
    {
     "data": {
      "text/plain": [
       "array(['Lak And Hanware The Residency Tower',\n",
       "       'Radheya Sai Enclave Building No 2', 'Romell Serene', ...,\n",
       "       'Ahuja Prasadam Phase III', 'HBS Marineview', 'Hubtown Serene'],\n",
       "      dtype=object)"
      ]
     },
     "execution_count": 8,
     "metadata": {},
     "output_type": "execute_result"
    }
   ],
   "source": [
    "df['locality'].unique()"
   ]
  },
  {
   "cell_type": "code",
   "execution_count": 9,
   "id": "7c5daa8f",
   "metadata": {},
   "outputs": [
    {
     "data": {
      "text/plain": [
       "array(['Andheri West', 'Naigaon East', 'Borivali West', 'Panvel',\n",
       "       'Mira Road East', 'Parel', 'Boisar', 'Santacruz East',\n",
       "       'Badlapur East', 'Fort', 'Badlapur West', 'Khopoli', 'Chembur',\n",
       "       'Jogeshwari West', 'Vasai', 'Kalamboli', 'Powai', 'Ghansoli',\n",
       "       'Thane West', 'Vikhroli', 'Bhiwandi', 'Airoli', 'Ambernath West',\n",
       "       'Borivali East', 'Virar', 'Kharghar', 'Ulwe', 'Kamothe',\n",
       "       'Jogeshwari East', 'Mulund West', 'Palghar', 'Goregaon West',\n",
       "       'Taloja', 'Rasayani', 'Ghatkopar East', 'Ulhasnagar', 'Dombivali',\n",
       "       'Kewale', 'Nala Sopara', 'Goregaon East', 'Kandivali East',\n",
       "       'Kurla', 'Andheri East', 'Dahisar', 'Karanjade', 'Mahim', 'Vashi',\n",
       "       'Malad West', 'Girgaon', 'Dadar West', 'Bandra West',\n",
       "       'Kandivali West', 'Kalyan West', 'Neral', 'Kalyan East', 'Karjat',\n",
       "       'Ghatkopar West', 'Dronagiri', 'Mulund East', 'Navade', 'Ambivali',\n",
       "       'Agripada', 'Owale', 'Ville Parle East', 'Kalwa', 'Khar',\n",
       "       'Santacruz West', 'Nerul', 'Kanjurmarg', 'Vangani',\n",
       "       'Bhayandar East', 'Seawoods', 'Sewri', 'Ambernath East',\n",
       "       'Nilje Gaon', 'Prabhadevi', 'Matunga', 'Lower Parel', 'Titwala',\n",
       "       'Shil Phata', 'Koper Khairane', 'Napeansea Road', 'Bhandup West',\n",
       "       'Koproli', 'Anjurdive', 'Wadala', 'Sion', 'Taloje', 'Cuffe Parade',\n",
       "       'Bhandup East', 'Byculla', 'Tardeo', 'Vasai West', 'Vasai east',\n",
       "       'Malad East', 'Colaba', 'Thane East', 'Nalasopara East', 'Deonar',\n",
       "       'Nahur East', 'Sanpada', 'Sector 21 Kamothe', 'Saphale', 'Kasheli',\n",
       "       'Juinagar', 'Worli', 'Panch Pakhdi', 'Mazagaon',\n",
       "       'Hiranandani Estates', 'Belapur', 'Vichumbe', 'Bandra East',\n",
       "       'Sector 17 Ulwe', 'Sector 23 Ulwe', 'Nalasopara West', 'Mahalaxmi',\n",
       "       'Sector 20 Kamothe', 'Dadar East', 'Sector 19 Kamothe', 'Shahapur',\n",
       "       'Sector 30 Kharghar', 'Asangaon', 'Vikroli East', 'Mira Road',\n",
       "       'Kanjurmarg East', 'Rambaug', 'Sector-12 Kamothe', 'Juhu',\n",
       "       'Ville Parle West', 'Mazgaon', 'Virar East', 'Khar West',\n",
       "       'Sector 8 New panvel', 'Rabale', 'Bhayandar West',\n",
       "       'Sector 20 Ulwe', 'Sector 22 Kamothe', 'Sector 21 Nerul',\n",
       "       'Bandra Kurla Complex', 'Sector 14 Vashi', 'Mumbai Central',\n",
       "       'Virar West', 'Sector 11 Koparkhairane', 'Unnat Nagar', 'Diva',\n",
       "       'Palava', 'Dombivali East', 'Sector-14 Koparkhairane',\n",
       "       'Greater Khanda', 'Sector-35D Kharghar', 'Umroli', 'Sector-9 Ulwe',\n",
       "       'Govandi', 'vile parle west', 'MATUNGA WEST', 'Sector-3 Ulwe',\n",
       "       'kasaradavali thane west', 'Kurla East', 'Pestom Sagar Colony',\n",
       "       'Sector 12 Kharghar', 'Police Colony', 'Dahisar West',\n",
       "       'Marine Lines', 'Sector 19 Kharghar', 'Kalher', 'Hindu Colony',\n",
       "       'Dahisar East', 'Sector 9 Vashi', 'Khardi', 'Babulnath Road',\n",
       "       'Sector 21 Kharghar', 'Dharavi', 'Vasind', 'Tilak Nagar',\n",
       "       'Ashok nagar', 'Antop Hill', 'Peddar Road', 'Kamathipura',\n",
       "       'Usarghar Gaon', 'Ambarnath', 'Patlipada', 'Vevoor', 'Shelu',\n",
       "       'Kurla West', 'Goregaon', 'Naupada', 'Bhoiwada',\n",
       "       'Sector 7 Kharghar', 'Roadpali', 'Sector-9 Kamothe', 'Borivali',\n",
       "       'Badlapur', 'Khanda Colony', 'Dombivli (West)', 'GTB Nagar',\n",
       "       'Bandra', 'kandivali', 'Mahavir Nagar', 'Churchgate', 'Pali Hill',\n",
       "       'Manpada', 'Sector-50 Seawoods', 'Uttan', 'Gauripada',\n",
       "       'Gandhar Nagar', 'Mahim West', 'Warai', 'mumbai', 'Khatiwali',\n",
       "       'Chandivali', 'Mumbra', 'Chembur East', 'Malabar Hill', 'sector',\n",
       "       'Uran', 'Manjarli', 'Ghodbunder Road', 'Mulund',\n",
       "       'Sector 18 Kharghar', 'Palidevad', 'Juhu Scheme', 'Adaigaon',\n",
       "       'Versova', 'Sector-4 New Panvel', 'Pen', 'Sector 6 Kamothe',\n",
       "       'Maneklal Estate', 'L I C Colony'], dtype=object)"
      ]
     },
     "execution_count": 9,
     "metadata": {},
     "output_type": "execute_result"
    }
   ],
   "source": [
    "df['region'].unique()"
   ]
  },
  {
   "cell_type": "code",
   "execution_count": 10,
   "id": "27d3893a",
   "metadata": {},
   "outputs": [
    {
     "data": {
      "text/plain": [
       "array(['Apartment', 'Villa', 'Studio Apartment', 'Independent House',\n",
       "       'Penthouse'], dtype=object)"
      ]
     },
     "execution_count": 10,
     "metadata": {},
     "output_type": "execute_result"
    }
   ],
   "source": [
    "df['type'].unique()"
   ]
  },
  {
   "cell_type": "code",
   "execution_count": 11,
   "id": "d5e9bd6f",
   "metadata": {},
   "outputs": [
    {
     "data": {
      "text/plain": [
       "array(['Ready to move', 'Under Construction'], dtype=object)"
      ]
     },
     "execution_count": 11,
     "metadata": {},
     "output_type": "execute_result"
    }
   ],
   "source": [
    "df['status'].unique()"
   ]
  },
  {
   "cell_type": "code",
   "execution_count": 12,
   "id": "8c5a64ab",
   "metadata": {},
   "outputs": [],
   "source": [
    "df1=df.drop(['locality','age'],axis=\"columns\")"
   ]
  },
  {
   "cell_type": "code",
   "execution_count": 13,
   "id": "f511fd2e",
   "metadata": {},
   "outputs": [
    {
     "data": {
      "text/html": [
       "<div>\n",
       "<style scoped>\n",
       "    .dataframe tbody tr th:only-of-type {\n",
       "        vertical-align: middle;\n",
       "    }\n",
       "\n",
       "    .dataframe tbody tr th {\n",
       "        vertical-align: top;\n",
       "    }\n",
       "\n",
       "    .dataframe thead th {\n",
       "        text-align: right;\n",
       "    }\n",
       "</style>\n",
       "<table border=\"1\" class=\"dataframe\">\n",
       "  <thead>\n",
       "    <tr style=\"text-align: right;\">\n",
       "      <th></th>\n",
       "      <th>bhk</th>\n",
       "      <th>type</th>\n",
       "      <th>area</th>\n",
       "      <th>price</th>\n",
       "      <th>price_unit</th>\n",
       "      <th>region</th>\n",
       "      <th>status</th>\n",
       "    </tr>\n",
       "  </thead>\n",
       "  <tbody>\n",
       "    <tr>\n",
       "      <th>0</th>\n",
       "      <td>3</td>\n",
       "      <td>Apartment</td>\n",
       "      <td>685</td>\n",
       "      <td>2.50</td>\n",
       "      <td>Cr</td>\n",
       "      <td>Andheri West</td>\n",
       "      <td>Ready to move</td>\n",
       "    </tr>\n",
       "    <tr>\n",
       "      <th>1</th>\n",
       "      <td>2</td>\n",
       "      <td>Apartment</td>\n",
       "      <td>640</td>\n",
       "      <td>52.51</td>\n",
       "      <td>L</td>\n",
       "      <td>Naigaon East</td>\n",
       "      <td>Under Construction</td>\n",
       "    </tr>\n",
       "    <tr>\n",
       "      <th>2</th>\n",
       "      <td>2</td>\n",
       "      <td>Apartment</td>\n",
       "      <td>610</td>\n",
       "      <td>1.73</td>\n",
       "      <td>Cr</td>\n",
       "      <td>Borivali West</td>\n",
       "      <td>Under Construction</td>\n",
       "    </tr>\n",
       "    <tr>\n",
       "      <th>3</th>\n",
       "      <td>2</td>\n",
       "      <td>Apartment</td>\n",
       "      <td>876</td>\n",
       "      <td>59.98</td>\n",
       "      <td>L</td>\n",
       "      <td>Panvel</td>\n",
       "      <td>Under Construction</td>\n",
       "    </tr>\n",
       "    <tr>\n",
       "      <th>4</th>\n",
       "      <td>2</td>\n",
       "      <td>Apartment</td>\n",
       "      <td>659</td>\n",
       "      <td>94.11</td>\n",
       "      <td>L</td>\n",
       "      <td>Mira Road East</td>\n",
       "      <td>Under Construction</td>\n",
       "    </tr>\n",
       "    <tr>\n",
       "      <th>...</th>\n",
       "      <td>...</td>\n",
       "      <td>...</td>\n",
       "      <td>...</td>\n",
       "      <td>...</td>\n",
       "      <td>...</td>\n",
       "      <td>...</td>\n",
       "      <td>...</td>\n",
       "    </tr>\n",
       "    <tr>\n",
       "      <th>76033</th>\n",
       "      <td>3</td>\n",
       "      <td>Apartment</td>\n",
       "      <td>1527</td>\n",
       "      <td>7.00</td>\n",
       "      <td>Cr</td>\n",
       "      <td>Juhu</td>\n",
       "      <td>Ready to move</td>\n",
       "    </tr>\n",
       "    <tr>\n",
       "      <th>76034</th>\n",
       "      <td>5</td>\n",
       "      <td>Apartment</td>\n",
       "      <td>3049</td>\n",
       "      <td>12.00</td>\n",
       "      <td>Cr</td>\n",
       "      <td>Juhu</td>\n",
       "      <td>Ready to move</td>\n",
       "    </tr>\n",
       "    <tr>\n",
       "      <th>76035</th>\n",
       "      <td>4</td>\n",
       "      <td>Apartment</td>\n",
       "      <td>3313</td>\n",
       "      <td>10.00</td>\n",
       "      <td>Cr</td>\n",
       "      <td>Napeansea Road</td>\n",
       "      <td>Ready to move</td>\n",
       "    </tr>\n",
       "    <tr>\n",
       "      <th>76036</th>\n",
       "      <td>2</td>\n",
       "      <td>Apartment</td>\n",
       "      <td>1305</td>\n",
       "      <td>4.25</td>\n",
       "      <td>Cr</td>\n",
       "      <td>Bandra East</td>\n",
       "      <td>Ready to move</td>\n",
       "    </tr>\n",
       "    <tr>\n",
       "      <th>76037</th>\n",
       "      <td>5</td>\n",
       "      <td>Apartment</td>\n",
       "      <td>5200</td>\n",
       "      <td>25.00</td>\n",
       "      <td>Cr</td>\n",
       "      <td>Bandra Kurla Complex</td>\n",
       "      <td>Ready to move</td>\n",
       "    </tr>\n",
       "  </tbody>\n",
       "</table>\n",
       "<p>76038 rows × 7 columns</p>\n",
       "</div>"
      ],
      "text/plain": [
       "       bhk       type  area  price price_unit                region  \\\n",
       "0        3  Apartment   685   2.50         Cr          Andheri West   \n",
       "1        2  Apartment   640  52.51          L          Naigaon East   \n",
       "2        2  Apartment   610   1.73         Cr         Borivali West   \n",
       "3        2  Apartment   876  59.98          L                Panvel   \n",
       "4        2  Apartment   659  94.11          L        Mira Road East   \n",
       "...    ...        ...   ...    ...        ...                   ...   \n",
       "76033    3  Apartment  1527   7.00         Cr                  Juhu   \n",
       "76034    5  Apartment  3049  12.00         Cr                  Juhu   \n",
       "76035    4  Apartment  3313  10.00         Cr        Napeansea Road   \n",
       "76036    2  Apartment  1305   4.25         Cr           Bandra East   \n",
       "76037    5  Apartment  5200  25.00         Cr  Bandra Kurla Complex   \n",
       "\n",
       "                   status  \n",
       "0           Ready to move  \n",
       "1      Under Construction  \n",
       "2      Under Construction  \n",
       "3      Under Construction  \n",
       "4      Under Construction  \n",
       "...                   ...  \n",
       "76033       Ready to move  \n",
       "76034       Ready to move  \n",
       "76035       Ready to move  \n",
       "76036       Ready to move  \n",
       "76037       Ready to move  \n",
       "\n",
       "[76038 rows x 7 columns]"
      ]
     },
     "execution_count": 13,
     "metadata": {},
     "output_type": "execute_result"
    }
   ],
   "source": [
    "df1"
   ]
  },
  {
   "cell_type": "code",
   "execution_count": 14,
   "id": "b0e90931",
   "metadata": {},
   "outputs": [
    {
     "data": {
      "text/html": [
       "<div>\n",
       "<style scoped>\n",
       "    .dataframe tbody tr th:only-of-type {\n",
       "        vertical-align: middle;\n",
       "    }\n",
       "\n",
       "    .dataframe tbody tr th {\n",
       "        vertical-align: top;\n",
       "    }\n",
       "\n",
       "    .dataframe thead th {\n",
       "        text-align: right;\n",
       "    }\n",
       "</style>\n",
       "<table border=\"1\" class=\"dataframe\">\n",
       "  <thead>\n",
       "    <tr style=\"text-align: right;\">\n",
       "      <th></th>\n",
       "      <th>bhk</th>\n",
       "      <th>type</th>\n",
       "      <th>area</th>\n",
       "      <th>price</th>\n",
       "      <th>price_unit</th>\n",
       "      <th>region</th>\n",
       "      <th>status</th>\n",
       "    </tr>\n",
       "  </thead>\n",
       "  <tbody>\n",
       "    <tr>\n",
       "      <th>0</th>\n",
       "      <td>3</td>\n",
       "      <td>Apartment</td>\n",
       "      <td>685</td>\n",
       "      <td>2.50</td>\n",
       "      <td>Cr</td>\n",
       "      <td>Andheri West</td>\n",
       "      <td>Ready to move</td>\n",
       "    </tr>\n",
       "    <tr>\n",
       "      <th>1</th>\n",
       "      <td>2</td>\n",
       "      <td>Apartment</td>\n",
       "      <td>640</td>\n",
       "      <td>52.51</td>\n",
       "      <td>L</td>\n",
       "      <td>Naigaon East</td>\n",
       "      <td>Under Construction</td>\n",
       "    </tr>\n",
       "    <tr>\n",
       "      <th>2</th>\n",
       "      <td>2</td>\n",
       "      <td>Apartment</td>\n",
       "      <td>610</td>\n",
       "      <td>1.73</td>\n",
       "      <td>Cr</td>\n",
       "      <td>Borivali West</td>\n",
       "      <td>Under Construction</td>\n",
       "    </tr>\n",
       "    <tr>\n",
       "      <th>3</th>\n",
       "      <td>2</td>\n",
       "      <td>Apartment</td>\n",
       "      <td>876</td>\n",
       "      <td>59.98</td>\n",
       "      <td>L</td>\n",
       "      <td>Panvel</td>\n",
       "      <td>Under Construction</td>\n",
       "    </tr>\n",
       "    <tr>\n",
       "      <th>4</th>\n",
       "      <td>2</td>\n",
       "      <td>Apartment</td>\n",
       "      <td>659</td>\n",
       "      <td>94.11</td>\n",
       "      <td>L</td>\n",
       "      <td>Mira Road East</td>\n",
       "      <td>Under Construction</td>\n",
       "    </tr>\n",
       "  </tbody>\n",
       "</table>\n",
       "</div>"
      ],
      "text/plain": [
       "   bhk       type  area  price price_unit          region              status\n",
       "0    3  Apartment   685   2.50         Cr    Andheri West       Ready to move\n",
       "1    2  Apartment   640  52.51          L    Naigaon East  Under Construction\n",
       "2    2  Apartment   610   1.73         Cr   Borivali West  Under Construction\n",
       "3    2  Apartment   876  59.98          L          Panvel  Under Construction\n",
       "4    2  Apartment   659  94.11          L  Mira Road East  Under Construction"
      ]
     },
     "execution_count": 14,
     "metadata": {},
     "output_type": "execute_result"
    }
   ],
   "source": [
    "df1.head()"
   ]
  },
  {
   "cell_type": "code",
   "execution_count": 15,
   "id": "faf45f61",
   "metadata": {},
   "outputs": [],
   "source": [
    "df1['amount']=df1['price'].astype(str)+' '+df1['price_unit']"
   ]
  },
  {
   "cell_type": "code",
   "execution_count": 16,
   "id": "056c897f",
   "metadata": {},
   "outputs": [
    {
     "data": {
      "text/plain": [
       "0         2.5 Cr\n",
       "1        52.51 L\n",
       "2        1.73 Cr\n",
       "3        59.98 L\n",
       "4        94.11 L\n",
       "          ...   \n",
       "76033     7.0 Cr\n",
       "76034    12.0 Cr\n",
       "76035    10.0 Cr\n",
       "76036    4.25 Cr\n",
       "76037    25.0 Cr\n",
       "Name: amount, Length: 76038, dtype: object"
      ]
     },
     "execution_count": 16,
     "metadata": {},
     "output_type": "execute_result"
    }
   ],
   "source": [
    "df1['amount']"
   ]
  },
  {
   "cell_type": "code",
   "execution_count": 17,
   "id": "47e7a890",
   "metadata": {},
   "outputs": [
    {
     "data": {
      "text/html": [
       "<div>\n",
       "<style scoped>\n",
       "    .dataframe tbody tr th:only-of-type {\n",
       "        vertical-align: middle;\n",
       "    }\n",
       "\n",
       "    .dataframe tbody tr th {\n",
       "        vertical-align: top;\n",
       "    }\n",
       "\n",
       "    .dataframe thead th {\n",
       "        text-align: right;\n",
       "    }\n",
       "</style>\n",
       "<table border=\"1\" class=\"dataframe\">\n",
       "  <thead>\n",
       "    <tr style=\"text-align: right;\">\n",
       "      <th></th>\n",
       "      <th>bhk</th>\n",
       "      <th>type</th>\n",
       "      <th>area</th>\n",
       "      <th>price</th>\n",
       "      <th>price_unit</th>\n",
       "      <th>region</th>\n",
       "      <th>status</th>\n",
       "      <th>amount</th>\n",
       "    </tr>\n",
       "  </thead>\n",
       "  <tbody>\n",
       "    <tr>\n",
       "      <th>0</th>\n",
       "      <td>3</td>\n",
       "      <td>Apartment</td>\n",
       "      <td>685</td>\n",
       "      <td>2.50</td>\n",
       "      <td>Cr</td>\n",
       "      <td>Andheri West</td>\n",
       "      <td>Ready to move</td>\n",
       "      <td>2.5 Cr</td>\n",
       "    </tr>\n",
       "    <tr>\n",
       "      <th>1</th>\n",
       "      <td>2</td>\n",
       "      <td>Apartment</td>\n",
       "      <td>640</td>\n",
       "      <td>52.51</td>\n",
       "      <td>L</td>\n",
       "      <td>Naigaon East</td>\n",
       "      <td>Under Construction</td>\n",
       "      <td>52.51 L</td>\n",
       "    </tr>\n",
       "    <tr>\n",
       "      <th>2</th>\n",
       "      <td>2</td>\n",
       "      <td>Apartment</td>\n",
       "      <td>610</td>\n",
       "      <td>1.73</td>\n",
       "      <td>Cr</td>\n",
       "      <td>Borivali West</td>\n",
       "      <td>Under Construction</td>\n",
       "      <td>1.73 Cr</td>\n",
       "    </tr>\n",
       "    <tr>\n",
       "      <th>3</th>\n",
       "      <td>2</td>\n",
       "      <td>Apartment</td>\n",
       "      <td>876</td>\n",
       "      <td>59.98</td>\n",
       "      <td>L</td>\n",
       "      <td>Panvel</td>\n",
       "      <td>Under Construction</td>\n",
       "      <td>59.98 L</td>\n",
       "    </tr>\n",
       "    <tr>\n",
       "      <th>4</th>\n",
       "      <td>2</td>\n",
       "      <td>Apartment</td>\n",
       "      <td>659</td>\n",
       "      <td>94.11</td>\n",
       "      <td>L</td>\n",
       "      <td>Mira Road East</td>\n",
       "      <td>Under Construction</td>\n",
       "      <td>94.11 L</td>\n",
       "    </tr>\n",
       "    <tr>\n",
       "      <th>...</th>\n",
       "      <td>...</td>\n",
       "      <td>...</td>\n",
       "      <td>...</td>\n",
       "      <td>...</td>\n",
       "      <td>...</td>\n",
       "      <td>...</td>\n",
       "      <td>...</td>\n",
       "      <td>...</td>\n",
       "    </tr>\n",
       "    <tr>\n",
       "      <th>76033</th>\n",
       "      <td>3</td>\n",
       "      <td>Apartment</td>\n",
       "      <td>1527</td>\n",
       "      <td>7.00</td>\n",
       "      <td>Cr</td>\n",
       "      <td>Juhu</td>\n",
       "      <td>Ready to move</td>\n",
       "      <td>7.0 Cr</td>\n",
       "    </tr>\n",
       "    <tr>\n",
       "      <th>76034</th>\n",
       "      <td>5</td>\n",
       "      <td>Apartment</td>\n",
       "      <td>3049</td>\n",
       "      <td>12.00</td>\n",
       "      <td>Cr</td>\n",
       "      <td>Juhu</td>\n",
       "      <td>Ready to move</td>\n",
       "      <td>12.0 Cr</td>\n",
       "    </tr>\n",
       "    <tr>\n",
       "      <th>76035</th>\n",
       "      <td>4</td>\n",
       "      <td>Apartment</td>\n",
       "      <td>3313</td>\n",
       "      <td>10.00</td>\n",
       "      <td>Cr</td>\n",
       "      <td>Napeansea Road</td>\n",
       "      <td>Ready to move</td>\n",
       "      <td>10.0 Cr</td>\n",
       "    </tr>\n",
       "    <tr>\n",
       "      <th>76036</th>\n",
       "      <td>2</td>\n",
       "      <td>Apartment</td>\n",
       "      <td>1305</td>\n",
       "      <td>4.25</td>\n",
       "      <td>Cr</td>\n",
       "      <td>Bandra East</td>\n",
       "      <td>Ready to move</td>\n",
       "      <td>4.25 Cr</td>\n",
       "    </tr>\n",
       "    <tr>\n",
       "      <th>76037</th>\n",
       "      <td>5</td>\n",
       "      <td>Apartment</td>\n",
       "      <td>5200</td>\n",
       "      <td>25.00</td>\n",
       "      <td>Cr</td>\n",
       "      <td>Bandra Kurla Complex</td>\n",
       "      <td>Ready to move</td>\n",
       "      <td>25.0 Cr</td>\n",
       "    </tr>\n",
       "  </tbody>\n",
       "</table>\n",
       "<p>76038 rows × 8 columns</p>\n",
       "</div>"
      ],
      "text/plain": [
       "       bhk       type  area  price price_unit                region  \\\n",
       "0        3  Apartment   685   2.50         Cr          Andheri West   \n",
       "1        2  Apartment   640  52.51          L          Naigaon East   \n",
       "2        2  Apartment   610   1.73         Cr         Borivali West   \n",
       "3        2  Apartment   876  59.98          L                Panvel   \n",
       "4        2  Apartment   659  94.11          L        Mira Road East   \n",
       "...    ...        ...   ...    ...        ...                   ...   \n",
       "76033    3  Apartment  1527   7.00         Cr                  Juhu   \n",
       "76034    5  Apartment  3049  12.00         Cr                  Juhu   \n",
       "76035    4  Apartment  3313  10.00         Cr        Napeansea Road   \n",
       "76036    2  Apartment  1305   4.25         Cr           Bandra East   \n",
       "76037    5  Apartment  5200  25.00         Cr  Bandra Kurla Complex   \n",
       "\n",
       "                   status   amount  \n",
       "0           Ready to move   2.5 Cr  \n",
       "1      Under Construction  52.51 L  \n",
       "2      Under Construction  1.73 Cr  \n",
       "3      Under Construction  59.98 L  \n",
       "4      Under Construction  94.11 L  \n",
       "...                   ...      ...  \n",
       "76033       Ready to move   7.0 Cr  \n",
       "76034       Ready to move  12.0 Cr  \n",
       "76035       Ready to move  10.0 Cr  \n",
       "76036       Ready to move  4.25 Cr  \n",
       "76037       Ready to move  25.0 Cr  \n",
       "\n",
       "[76038 rows x 8 columns]"
      ]
     },
     "execution_count": 17,
     "metadata": {},
     "output_type": "execute_result"
    }
   ],
   "source": [
    "df1"
   ]
  },
  {
   "cell_type": "code",
   "execution_count": 18,
   "id": "58cbe20e",
   "metadata": {},
   "outputs": [
    {
     "data": {
      "text/html": [
       "<div>\n",
       "<style scoped>\n",
       "    .dataframe tbody tr th:only-of-type {\n",
       "        vertical-align: middle;\n",
       "    }\n",
       "\n",
       "    .dataframe tbody tr th {\n",
       "        vertical-align: top;\n",
       "    }\n",
       "\n",
       "    .dataframe thead th {\n",
       "        text-align: right;\n",
       "    }\n",
       "</style>\n",
       "<table border=\"1\" class=\"dataframe\">\n",
       "  <thead>\n",
       "    <tr style=\"text-align: right;\">\n",
       "      <th></th>\n",
       "      <th>bhk</th>\n",
       "      <th>type</th>\n",
       "      <th>area</th>\n",
       "      <th>region</th>\n",
       "      <th>status</th>\n",
       "      <th>amount</th>\n",
       "    </tr>\n",
       "  </thead>\n",
       "  <tbody>\n",
       "    <tr>\n",
       "      <th>0</th>\n",
       "      <td>3</td>\n",
       "      <td>Apartment</td>\n",
       "      <td>685</td>\n",
       "      <td>Andheri West</td>\n",
       "      <td>Ready to move</td>\n",
       "      <td>2.5 Cr</td>\n",
       "    </tr>\n",
       "    <tr>\n",
       "      <th>1</th>\n",
       "      <td>2</td>\n",
       "      <td>Apartment</td>\n",
       "      <td>640</td>\n",
       "      <td>Naigaon East</td>\n",
       "      <td>Under Construction</td>\n",
       "      <td>52.51 L</td>\n",
       "    </tr>\n",
       "    <tr>\n",
       "      <th>2</th>\n",
       "      <td>2</td>\n",
       "      <td>Apartment</td>\n",
       "      <td>610</td>\n",
       "      <td>Borivali West</td>\n",
       "      <td>Under Construction</td>\n",
       "      <td>1.73 Cr</td>\n",
       "    </tr>\n",
       "    <tr>\n",
       "      <th>3</th>\n",
       "      <td>2</td>\n",
       "      <td>Apartment</td>\n",
       "      <td>876</td>\n",
       "      <td>Panvel</td>\n",
       "      <td>Under Construction</td>\n",
       "      <td>59.98 L</td>\n",
       "    </tr>\n",
       "    <tr>\n",
       "      <th>4</th>\n",
       "      <td>2</td>\n",
       "      <td>Apartment</td>\n",
       "      <td>659</td>\n",
       "      <td>Mira Road East</td>\n",
       "      <td>Under Construction</td>\n",
       "      <td>94.11 L</td>\n",
       "    </tr>\n",
       "    <tr>\n",
       "      <th>...</th>\n",
       "      <td>...</td>\n",
       "      <td>...</td>\n",
       "      <td>...</td>\n",
       "      <td>...</td>\n",
       "      <td>...</td>\n",
       "      <td>...</td>\n",
       "    </tr>\n",
       "    <tr>\n",
       "      <th>76033</th>\n",
       "      <td>3</td>\n",
       "      <td>Apartment</td>\n",
       "      <td>1527</td>\n",
       "      <td>Juhu</td>\n",
       "      <td>Ready to move</td>\n",
       "      <td>7.0 Cr</td>\n",
       "    </tr>\n",
       "    <tr>\n",
       "      <th>76034</th>\n",
       "      <td>5</td>\n",
       "      <td>Apartment</td>\n",
       "      <td>3049</td>\n",
       "      <td>Juhu</td>\n",
       "      <td>Ready to move</td>\n",
       "      <td>12.0 Cr</td>\n",
       "    </tr>\n",
       "    <tr>\n",
       "      <th>76035</th>\n",
       "      <td>4</td>\n",
       "      <td>Apartment</td>\n",
       "      <td>3313</td>\n",
       "      <td>Napeansea Road</td>\n",
       "      <td>Ready to move</td>\n",
       "      <td>10.0 Cr</td>\n",
       "    </tr>\n",
       "    <tr>\n",
       "      <th>76036</th>\n",
       "      <td>2</td>\n",
       "      <td>Apartment</td>\n",
       "      <td>1305</td>\n",
       "      <td>Bandra East</td>\n",
       "      <td>Ready to move</td>\n",
       "      <td>4.25 Cr</td>\n",
       "    </tr>\n",
       "    <tr>\n",
       "      <th>76037</th>\n",
       "      <td>5</td>\n",
       "      <td>Apartment</td>\n",
       "      <td>5200</td>\n",
       "      <td>Bandra Kurla Complex</td>\n",
       "      <td>Ready to move</td>\n",
       "      <td>25.0 Cr</td>\n",
       "    </tr>\n",
       "  </tbody>\n",
       "</table>\n",
       "<p>76038 rows × 6 columns</p>\n",
       "</div>"
      ],
      "text/plain": [
       "       bhk       type  area                region              status   amount\n",
       "0        3  Apartment   685          Andheri West       Ready to move   2.5 Cr\n",
       "1        2  Apartment   640          Naigaon East  Under Construction  52.51 L\n",
       "2        2  Apartment   610         Borivali West  Under Construction  1.73 Cr\n",
       "3        2  Apartment   876                Panvel  Under Construction  59.98 L\n",
       "4        2  Apartment   659        Mira Road East  Under Construction  94.11 L\n",
       "...    ...        ...   ...                   ...                 ...      ...\n",
       "76033    3  Apartment  1527                  Juhu       Ready to move   7.0 Cr\n",
       "76034    5  Apartment  3049                  Juhu       Ready to move  12.0 Cr\n",
       "76035    4  Apartment  3313        Napeansea Road       Ready to move  10.0 Cr\n",
       "76036    2  Apartment  1305           Bandra East       Ready to move  4.25 Cr\n",
       "76037    5  Apartment  5200  Bandra Kurla Complex       Ready to move  25.0 Cr\n",
       "\n",
       "[76038 rows x 6 columns]"
      ]
     },
     "execution_count": 18,
     "metadata": {},
     "output_type": "execute_result"
    }
   ],
   "source": [
    "df2=df1.drop(['price','price_unit'],axis=\"columns\")\n",
    "df2"
   ]
  },
  {
   "cell_type": "code",
   "execution_count": 19,
   "id": "c1021473",
   "metadata": {},
   "outputs": [],
   "source": [
    "def fun(x):\n",
    "    if 'Cr' in x or 'cr' in x:\n",
    "        s =str(x).split(\" \")[0]\n",
    "        s1=str(int(float(s)*100))\n",
    "        return s1\n",
    "    else:\n",
    "        s =str(x).split(\" \")[0]\n",
    "    return s    "
   ]
  },
  {
   "cell_type": "code",
   "execution_count": 20,
   "id": "c696de77",
   "metadata": {},
   "outputs": [],
   "source": [
    "df2['amount']=df2['amount'].map(lambda x:fun(x))"
   ]
  },
  {
   "cell_type": "code",
   "execution_count": 21,
   "id": "58db0e8d",
   "metadata": {},
   "outputs": [
    {
     "data": {
      "text/plain": [
       "0          250\n",
       "1        52.51\n",
       "2          173\n",
       "3        59.98\n",
       "4        94.11\n",
       "         ...  \n",
       "76033      700\n",
       "76034     1200\n",
       "76035     1000\n",
       "76036      425\n",
       "76037     2500\n",
       "Name: amount, Length: 76038, dtype: object"
      ]
     },
     "execution_count": 21,
     "metadata": {},
     "output_type": "execute_result"
    }
   ],
   "source": [
    "df2['amount']"
   ]
  },
  {
   "cell_type": "code",
   "execution_count": 22,
   "id": "c1bebbeb",
   "metadata": {},
   "outputs": [
    {
     "data": {
      "text/html": [
       "<div>\n",
       "<style scoped>\n",
       "    .dataframe tbody tr th:only-of-type {\n",
       "        vertical-align: middle;\n",
       "    }\n",
       "\n",
       "    .dataframe tbody tr th {\n",
       "        vertical-align: top;\n",
       "    }\n",
       "\n",
       "    .dataframe thead th {\n",
       "        text-align: right;\n",
       "    }\n",
       "</style>\n",
       "<table border=\"1\" class=\"dataframe\">\n",
       "  <thead>\n",
       "    <tr style=\"text-align: right;\">\n",
       "      <th></th>\n",
       "      <th>bhk</th>\n",
       "      <th>type</th>\n",
       "      <th>area</th>\n",
       "      <th>region</th>\n",
       "      <th>status</th>\n",
       "      <th>amount</th>\n",
       "    </tr>\n",
       "  </thead>\n",
       "  <tbody>\n",
       "    <tr>\n",
       "      <th>0</th>\n",
       "      <td>3</td>\n",
       "      <td>Apartment</td>\n",
       "      <td>685</td>\n",
       "      <td>Andheri West</td>\n",
       "      <td>Ready to move</td>\n",
       "      <td>250</td>\n",
       "    </tr>\n",
       "    <tr>\n",
       "      <th>1</th>\n",
       "      <td>2</td>\n",
       "      <td>Apartment</td>\n",
       "      <td>640</td>\n",
       "      <td>Naigaon East</td>\n",
       "      <td>Under Construction</td>\n",
       "      <td>52.51</td>\n",
       "    </tr>\n",
       "    <tr>\n",
       "      <th>2</th>\n",
       "      <td>2</td>\n",
       "      <td>Apartment</td>\n",
       "      <td>610</td>\n",
       "      <td>Borivali West</td>\n",
       "      <td>Under Construction</td>\n",
       "      <td>173</td>\n",
       "    </tr>\n",
       "    <tr>\n",
       "      <th>3</th>\n",
       "      <td>2</td>\n",
       "      <td>Apartment</td>\n",
       "      <td>876</td>\n",
       "      <td>Panvel</td>\n",
       "      <td>Under Construction</td>\n",
       "      <td>59.98</td>\n",
       "    </tr>\n",
       "    <tr>\n",
       "      <th>4</th>\n",
       "      <td>2</td>\n",
       "      <td>Apartment</td>\n",
       "      <td>659</td>\n",
       "      <td>Mira Road East</td>\n",
       "      <td>Under Construction</td>\n",
       "      <td>94.11</td>\n",
       "    </tr>\n",
       "    <tr>\n",
       "      <th>...</th>\n",
       "      <td>...</td>\n",
       "      <td>...</td>\n",
       "      <td>...</td>\n",
       "      <td>...</td>\n",
       "      <td>...</td>\n",
       "      <td>...</td>\n",
       "    </tr>\n",
       "    <tr>\n",
       "      <th>76033</th>\n",
       "      <td>3</td>\n",
       "      <td>Apartment</td>\n",
       "      <td>1527</td>\n",
       "      <td>Juhu</td>\n",
       "      <td>Ready to move</td>\n",
       "      <td>700</td>\n",
       "    </tr>\n",
       "    <tr>\n",
       "      <th>76034</th>\n",
       "      <td>5</td>\n",
       "      <td>Apartment</td>\n",
       "      <td>3049</td>\n",
       "      <td>Juhu</td>\n",
       "      <td>Ready to move</td>\n",
       "      <td>1200</td>\n",
       "    </tr>\n",
       "    <tr>\n",
       "      <th>76035</th>\n",
       "      <td>4</td>\n",
       "      <td>Apartment</td>\n",
       "      <td>3313</td>\n",
       "      <td>Napeansea Road</td>\n",
       "      <td>Ready to move</td>\n",
       "      <td>1000</td>\n",
       "    </tr>\n",
       "    <tr>\n",
       "      <th>76036</th>\n",
       "      <td>2</td>\n",
       "      <td>Apartment</td>\n",
       "      <td>1305</td>\n",
       "      <td>Bandra East</td>\n",
       "      <td>Ready to move</td>\n",
       "      <td>425</td>\n",
       "    </tr>\n",
       "    <tr>\n",
       "      <th>76037</th>\n",
       "      <td>5</td>\n",
       "      <td>Apartment</td>\n",
       "      <td>5200</td>\n",
       "      <td>Bandra Kurla Complex</td>\n",
       "      <td>Ready to move</td>\n",
       "      <td>2500</td>\n",
       "    </tr>\n",
       "  </tbody>\n",
       "</table>\n",
       "<p>76038 rows × 6 columns</p>\n",
       "</div>"
      ],
      "text/plain": [
       "       bhk       type  area                region              status amount\n",
       "0        3  Apartment   685          Andheri West       Ready to move    250\n",
       "1        2  Apartment   640          Naigaon East  Under Construction  52.51\n",
       "2        2  Apartment   610         Borivali West  Under Construction    173\n",
       "3        2  Apartment   876                Panvel  Under Construction  59.98\n",
       "4        2  Apartment   659        Mira Road East  Under Construction  94.11\n",
       "...    ...        ...   ...                   ...                 ...    ...\n",
       "76033    3  Apartment  1527                  Juhu       Ready to move    700\n",
       "76034    5  Apartment  3049                  Juhu       Ready to move   1200\n",
       "76035    4  Apartment  3313        Napeansea Road       Ready to move   1000\n",
       "76036    2  Apartment  1305           Bandra East       Ready to move    425\n",
       "76037    5  Apartment  5200  Bandra Kurla Complex       Ready to move   2500\n",
       "\n",
       "[76038 rows x 6 columns]"
      ]
     },
     "execution_count": 22,
     "metadata": {},
     "output_type": "execute_result"
    }
   ],
   "source": [
    "df2"
   ]
  },
  {
   "cell_type": "code",
   "execution_count": 23,
   "id": "f5ea1d9c",
   "metadata": {},
   "outputs": [],
   "source": [
    "df3=df2.rename({\"amount\":\"amount_in_lakh\"},axis=\"columns\")"
   ]
  },
  {
   "cell_type": "code",
   "execution_count": 24,
   "id": "cc82320d",
   "metadata": {},
   "outputs": [
    {
     "data": {
      "text/html": [
       "<div>\n",
       "<style scoped>\n",
       "    .dataframe tbody tr th:only-of-type {\n",
       "        vertical-align: middle;\n",
       "    }\n",
       "\n",
       "    .dataframe tbody tr th {\n",
       "        vertical-align: top;\n",
       "    }\n",
       "\n",
       "    .dataframe thead th {\n",
       "        text-align: right;\n",
       "    }\n",
       "</style>\n",
       "<table border=\"1\" class=\"dataframe\">\n",
       "  <thead>\n",
       "    <tr style=\"text-align: right;\">\n",
       "      <th></th>\n",
       "      <th>bhk</th>\n",
       "      <th>type</th>\n",
       "      <th>area</th>\n",
       "      <th>region</th>\n",
       "      <th>status</th>\n",
       "      <th>amount_in_lakh</th>\n",
       "    </tr>\n",
       "  </thead>\n",
       "  <tbody>\n",
       "    <tr>\n",
       "      <th>0</th>\n",
       "      <td>3</td>\n",
       "      <td>Apartment</td>\n",
       "      <td>685</td>\n",
       "      <td>Andheri West</td>\n",
       "      <td>Ready to move</td>\n",
       "      <td>250</td>\n",
       "    </tr>\n",
       "    <tr>\n",
       "      <th>1</th>\n",
       "      <td>2</td>\n",
       "      <td>Apartment</td>\n",
       "      <td>640</td>\n",
       "      <td>Naigaon East</td>\n",
       "      <td>Under Construction</td>\n",
       "      <td>52.51</td>\n",
       "    </tr>\n",
       "    <tr>\n",
       "      <th>2</th>\n",
       "      <td>2</td>\n",
       "      <td>Apartment</td>\n",
       "      <td>610</td>\n",
       "      <td>Borivali West</td>\n",
       "      <td>Under Construction</td>\n",
       "      <td>173</td>\n",
       "    </tr>\n",
       "    <tr>\n",
       "      <th>3</th>\n",
       "      <td>2</td>\n",
       "      <td>Apartment</td>\n",
       "      <td>876</td>\n",
       "      <td>Panvel</td>\n",
       "      <td>Under Construction</td>\n",
       "      <td>59.98</td>\n",
       "    </tr>\n",
       "    <tr>\n",
       "      <th>4</th>\n",
       "      <td>2</td>\n",
       "      <td>Apartment</td>\n",
       "      <td>659</td>\n",
       "      <td>Mira Road East</td>\n",
       "      <td>Under Construction</td>\n",
       "      <td>94.11</td>\n",
       "    </tr>\n",
       "    <tr>\n",
       "      <th>...</th>\n",
       "      <td>...</td>\n",
       "      <td>...</td>\n",
       "      <td>...</td>\n",
       "      <td>...</td>\n",
       "      <td>...</td>\n",
       "      <td>...</td>\n",
       "    </tr>\n",
       "    <tr>\n",
       "      <th>76033</th>\n",
       "      <td>3</td>\n",
       "      <td>Apartment</td>\n",
       "      <td>1527</td>\n",
       "      <td>Juhu</td>\n",
       "      <td>Ready to move</td>\n",
       "      <td>700</td>\n",
       "    </tr>\n",
       "    <tr>\n",
       "      <th>76034</th>\n",
       "      <td>5</td>\n",
       "      <td>Apartment</td>\n",
       "      <td>3049</td>\n",
       "      <td>Juhu</td>\n",
       "      <td>Ready to move</td>\n",
       "      <td>1200</td>\n",
       "    </tr>\n",
       "    <tr>\n",
       "      <th>76035</th>\n",
       "      <td>4</td>\n",
       "      <td>Apartment</td>\n",
       "      <td>3313</td>\n",
       "      <td>Napeansea Road</td>\n",
       "      <td>Ready to move</td>\n",
       "      <td>1000</td>\n",
       "    </tr>\n",
       "    <tr>\n",
       "      <th>76036</th>\n",
       "      <td>2</td>\n",
       "      <td>Apartment</td>\n",
       "      <td>1305</td>\n",
       "      <td>Bandra East</td>\n",
       "      <td>Ready to move</td>\n",
       "      <td>425</td>\n",
       "    </tr>\n",
       "    <tr>\n",
       "      <th>76037</th>\n",
       "      <td>5</td>\n",
       "      <td>Apartment</td>\n",
       "      <td>5200</td>\n",
       "      <td>Bandra Kurla Complex</td>\n",
       "      <td>Ready to move</td>\n",
       "      <td>2500</td>\n",
       "    </tr>\n",
       "  </tbody>\n",
       "</table>\n",
       "<p>76038 rows × 6 columns</p>\n",
       "</div>"
      ],
      "text/plain": [
       "       bhk       type  area                region              status  \\\n",
       "0        3  Apartment   685          Andheri West       Ready to move   \n",
       "1        2  Apartment   640          Naigaon East  Under Construction   \n",
       "2        2  Apartment   610         Borivali West  Under Construction   \n",
       "3        2  Apartment   876                Panvel  Under Construction   \n",
       "4        2  Apartment   659        Mira Road East  Under Construction   \n",
       "...    ...        ...   ...                   ...                 ...   \n",
       "76033    3  Apartment  1527                  Juhu       Ready to move   \n",
       "76034    5  Apartment  3049                  Juhu       Ready to move   \n",
       "76035    4  Apartment  3313        Napeansea Road       Ready to move   \n",
       "76036    2  Apartment  1305           Bandra East       Ready to move   \n",
       "76037    5  Apartment  5200  Bandra Kurla Complex       Ready to move   \n",
       "\n",
       "      amount_in_lakh  \n",
       "0                250  \n",
       "1              52.51  \n",
       "2                173  \n",
       "3              59.98  \n",
       "4              94.11  \n",
       "...              ...  \n",
       "76033            700  \n",
       "76034           1200  \n",
       "76035           1000  \n",
       "76036            425  \n",
       "76037           2500  \n",
       "\n",
       "[76038 rows x 6 columns]"
      ]
     },
     "execution_count": 24,
     "metadata": {},
     "output_type": "execute_result"
    }
   ],
   "source": [
    "df3"
   ]
  },
  {
   "cell_type": "code",
   "execution_count": 25,
   "id": "6ca81572",
   "metadata": {},
   "outputs": [
    {
     "data": {
      "text/html": [
       "<div>\n",
       "<style scoped>\n",
       "    .dataframe tbody tr th:only-of-type {\n",
       "        vertical-align: middle;\n",
       "    }\n",
       "\n",
       "    .dataframe tbody tr th {\n",
       "        vertical-align: top;\n",
       "    }\n",
       "\n",
       "    .dataframe thead th {\n",
       "        text-align: right;\n",
       "    }\n",
       "</style>\n",
       "<table border=\"1\" class=\"dataframe\">\n",
       "  <thead>\n",
       "    <tr style=\"text-align: right;\">\n",
       "      <th></th>\n",
       "      <th>bhk</th>\n",
       "      <th>type</th>\n",
       "      <th>area</th>\n",
       "      <th>region</th>\n",
       "      <th>amount_in_lakh</th>\n",
       "    </tr>\n",
       "  </thead>\n",
       "  <tbody>\n",
       "    <tr>\n",
       "      <th>0</th>\n",
       "      <td>3</td>\n",
       "      <td>Apartment</td>\n",
       "      <td>685</td>\n",
       "      <td>Andheri West</td>\n",
       "      <td>250</td>\n",
       "    </tr>\n",
       "    <tr>\n",
       "      <th>1</th>\n",
       "      <td>2</td>\n",
       "      <td>Apartment</td>\n",
       "      <td>640</td>\n",
       "      <td>Naigaon East</td>\n",
       "      <td>52.51</td>\n",
       "    </tr>\n",
       "    <tr>\n",
       "      <th>2</th>\n",
       "      <td>2</td>\n",
       "      <td>Apartment</td>\n",
       "      <td>610</td>\n",
       "      <td>Borivali West</td>\n",
       "      <td>173</td>\n",
       "    </tr>\n",
       "    <tr>\n",
       "      <th>3</th>\n",
       "      <td>2</td>\n",
       "      <td>Apartment</td>\n",
       "      <td>876</td>\n",
       "      <td>Panvel</td>\n",
       "      <td>59.98</td>\n",
       "    </tr>\n",
       "    <tr>\n",
       "      <th>4</th>\n",
       "      <td>2</td>\n",
       "      <td>Apartment</td>\n",
       "      <td>659</td>\n",
       "      <td>Mira Road East</td>\n",
       "      <td>94.11</td>\n",
       "    </tr>\n",
       "    <tr>\n",
       "      <th>...</th>\n",
       "      <td>...</td>\n",
       "      <td>...</td>\n",
       "      <td>...</td>\n",
       "      <td>...</td>\n",
       "      <td>...</td>\n",
       "    </tr>\n",
       "    <tr>\n",
       "      <th>76033</th>\n",
       "      <td>3</td>\n",
       "      <td>Apartment</td>\n",
       "      <td>1527</td>\n",
       "      <td>Juhu</td>\n",
       "      <td>700</td>\n",
       "    </tr>\n",
       "    <tr>\n",
       "      <th>76034</th>\n",
       "      <td>5</td>\n",
       "      <td>Apartment</td>\n",
       "      <td>3049</td>\n",
       "      <td>Juhu</td>\n",
       "      <td>1200</td>\n",
       "    </tr>\n",
       "    <tr>\n",
       "      <th>76035</th>\n",
       "      <td>4</td>\n",
       "      <td>Apartment</td>\n",
       "      <td>3313</td>\n",
       "      <td>Napeansea Road</td>\n",
       "      <td>1000</td>\n",
       "    </tr>\n",
       "    <tr>\n",
       "      <th>76036</th>\n",
       "      <td>2</td>\n",
       "      <td>Apartment</td>\n",
       "      <td>1305</td>\n",
       "      <td>Bandra East</td>\n",
       "      <td>425</td>\n",
       "    </tr>\n",
       "    <tr>\n",
       "      <th>76037</th>\n",
       "      <td>5</td>\n",
       "      <td>Apartment</td>\n",
       "      <td>5200</td>\n",
       "      <td>Bandra Kurla Complex</td>\n",
       "      <td>2500</td>\n",
       "    </tr>\n",
       "  </tbody>\n",
       "</table>\n",
       "<p>76038 rows × 5 columns</p>\n",
       "</div>"
      ],
      "text/plain": [
       "       bhk       type  area                region amount_in_lakh\n",
       "0        3  Apartment   685          Andheri West            250\n",
       "1        2  Apartment   640          Naigaon East          52.51\n",
       "2        2  Apartment   610         Borivali West            173\n",
       "3        2  Apartment   876                Panvel          59.98\n",
       "4        2  Apartment   659        Mira Road East          94.11\n",
       "...    ...        ...   ...                   ...            ...\n",
       "76033    3  Apartment  1527                  Juhu            700\n",
       "76034    5  Apartment  3049                  Juhu           1200\n",
       "76035    4  Apartment  3313        Napeansea Road           1000\n",
       "76036    2  Apartment  1305           Bandra East            425\n",
       "76037    5  Apartment  5200  Bandra Kurla Complex           2500\n",
       "\n",
       "[76038 rows x 5 columns]"
      ]
     },
     "execution_count": 25,
     "metadata": {},
     "output_type": "execute_result"
    }
   ],
   "source": [
    "df3=df3.drop([\"status\"],axis=\"columns\")\n",
    "df3"
   ]
  },
  {
   "cell_type": "code",
   "execution_count": 26,
   "id": "311a9f02",
   "metadata": {},
   "outputs": [
    {
     "data": {
      "text/plain": [
       "bhk               0\n",
       "type              0\n",
       "area              0\n",
       "region            0\n",
       "amount_in_lakh    0\n",
       "dtype: int64"
      ]
     },
     "execution_count": 26,
     "metadata": {},
     "output_type": "execute_result"
    }
   ],
   "source": [
    "df3.isnull().sum()"
   ]
  },
  {
   "cell_type": "code",
   "execution_count": 27,
   "id": "963e219b",
   "metadata": {},
   "outputs": [
    {
     "data": {
      "text/plain": [
       "bhk                int64\n",
       "type              object\n",
       "area               int64\n",
       "region            object\n",
       "amount_in_lakh    object\n",
       "dtype: object"
      ]
     },
     "execution_count": 27,
     "metadata": {},
     "output_type": "execute_result"
    }
   ],
   "source": [
    "df3.dtypes"
   ]
  },
  {
   "cell_type": "code",
   "execution_count": 28,
   "id": "0ddd2f23",
   "metadata": {},
   "outputs": [
    {
     "data": {
      "text/plain": [
       "bhk                 int64\n",
       "type               object\n",
       "area                int64\n",
       "region             object\n",
       "amount_in_lakh    float64\n",
       "dtype: object"
      ]
     },
     "execution_count": 28,
     "metadata": {},
     "output_type": "execute_result"
    }
   ],
   "source": [
    "df3['amount_in_lakh'] = df3['amount_in_lakh'].astype('float')\n",
    "df3.dtypes"
   ]
  },
  {
   "cell_type": "code",
   "execution_count": 29,
   "id": "a7a7b561",
   "metadata": {},
   "outputs": [],
   "source": [
    "df4=df3.copy()"
   ]
  },
  {
   "cell_type": "code",
   "execution_count": 30,
   "id": "bd510a45",
   "metadata": {},
   "outputs": [
    {
     "data": {
      "text/plain": [
       "bhk                 int64\n",
       "type               object\n",
       "area                int64\n",
       "region             object\n",
       "amount_in_lakh    float64\n",
       "dtype: object"
      ]
     },
     "execution_count": 30,
     "metadata": {},
     "output_type": "execute_result"
    }
   ],
   "source": [
    "df4.dtypes"
   ]
  },
  {
   "cell_type": "code",
   "execution_count": 31,
   "id": "9d339b6f",
   "metadata": {},
   "outputs": [
    {
     "data": {
      "text/html": [
       "<div>\n",
       "<style scoped>\n",
       "    .dataframe tbody tr th:only-of-type {\n",
       "        vertical-align: middle;\n",
       "    }\n",
       "\n",
       "    .dataframe tbody tr th {\n",
       "        vertical-align: top;\n",
       "    }\n",
       "\n",
       "    .dataframe thead th {\n",
       "        text-align: right;\n",
       "    }\n",
       "</style>\n",
       "<table border=\"1\" class=\"dataframe\">\n",
       "  <thead>\n",
       "    <tr style=\"text-align: right;\">\n",
       "      <th></th>\n",
       "      <th>bhk</th>\n",
       "      <th>type</th>\n",
       "      <th>area</th>\n",
       "      <th>region</th>\n",
       "      <th>amount_in_lakh</th>\n",
       "      <th>Price_per_sqft</th>\n",
       "    </tr>\n",
       "  </thead>\n",
       "  <tbody>\n",
       "    <tr>\n",
       "      <th>0</th>\n",
       "      <td>3</td>\n",
       "      <td>Apartment</td>\n",
       "      <td>685</td>\n",
       "      <td>Andheri West</td>\n",
       "      <td>250.00</td>\n",
       "      <td>36496.350365</td>\n",
       "    </tr>\n",
       "    <tr>\n",
       "      <th>1</th>\n",
       "      <td>2</td>\n",
       "      <td>Apartment</td>\n",
       "      <td>640</td>\n",
       "      <td>Naigaon East</td>\n",
       "      <td>52.51</td>\n",
       "      <td>8204.687500</td>\n",
       "    </tr>\n",
       "    <tr>\n",
       "      <th>2</th>\n",
       "      <td>2</td>\n",
       "      <td>Apartment</td>\n",
       "      <td>610</td>\n",
       "      <td>Borivali West</td>\n",
       "      <td>173.00</td>\n",
       "      <td>28360.655738</td>\n",
       "    </tr>\n",
       "    <tr>\n",
       "      <th>3</th>\n",
       "      <td>2</td>\n",
       "      <td>Apartment</td>\n",
       "      <td>876</td>\n",
       "      <td>Panvel</td>\n",
       "      <td>59.98</td>\n",
       "      <td>6847.031963</td>\n",
       "    </tr>\n",
       "    <tr>\n",
       "      <th>4</th>\n",
       "      <td>2</td>\n",
       "      <td>Apartment</td>\n",
       "      <td>659</td>\n",
       "      <td>Mira Road East</td>\n",
       "      <td>94.11</td>\n",
       "      <td>14280.728376</td>\n",
       "    </tr>\n",
       "    <tr>\n",
       "      <th>...</th>\n",
       "      <td>...</td>\n",
       "      <td>...</td>\n",
       "      <td>...</td>\n",
       "      <td>...</td>\n",
       "      <td>...</td>\n",
       "      <td>...</td>\n",
       "    </tr>\n",
       "    <tr>\n",
       "      <th>76033</th>\n",
       "      <td>3</td>\n",
       "      <td>Apartment</td>\n",
       "      <td>1527</td>\n",
       "      <td>Juhu</td>\n",
       "      <td>700.00</td>\n",
       "      <td>45841.519319</td>\n",
       "    </tr>\n",
       "    <tr>\n",
       "      <th>76034</th>\n",
       "      <td>5</td>\n",
       "      <td>Apartment</td>\n",
       "      <td>3049</td>\n",
       "      <td>Juhu</td>\n",
       "      <td>1200.00</td>\n",
       "      <td>39357.166284</td>\n",
       "    </tr>\n",
       "    <tr>\n",
       "      <th>76035</th>\n",
       "      <td>4</td>\n",
       "      <td>Apartment</td>\n",
       "      <td>3313</td>\n",
       "      <td>Napeansea Road</td>\n",
       "      <td>1000.00</td>\n",
       "      <td>30184.123151</td>\n",
       "    </tr>\n",
       "    <tr>\n",
       "      <th>76036</th>\n",
       "      <td>2</td>\n",
       "      <td>Apartment</td>\n",
       "      <td>1305</td>\n",
       "      <td>Bandra East</td>\n",
       "      <td>425.00</td>\n",
       "      <td>32567.049808</td>\n",
       "    </tr>\n",
       "    <tr>\n",
       "      <th>76037</th>\n",
       "      <td>5</td>\n",
       "      <td>Apartment</td>\n",
       "      <td>5200</td>\n",
       "      <td>Bandra Kurla Complex</td>\n",
       "      <td>2500.00</td>\n",
       "      <td>48076.923077</td>\n",
       "    </tr>\n",
       "  </tbody>\n",
       "</table>\n",
       "<p>76038 rows × 6 columns</p>\n",
       "</div>"
      ],
      "text/plain": [
       "       bhk       type  area                region  amount_in_lakh  \\\n",
       "0        3  Apartment   685          Andheri West          250.00   \n",
       "1        2  Apartment   640          Naigaon East           52.51   \n",
       "2        2  Apartment   610         Borivali West          173.00   \n",
       "3        2  Apartment   876                Panvel           59.98   \n",
       "4        2  Apartment   659        Mira Road East           94.11   \n",
       "...    ...        ...   ...                   ...             ...   \n",
       "76033    3  Apartment  1527                  Juhu          700.00   \n",
       "76034    5  Apartment  3049                  Juhu         1200.00   \n",
       "76035    4  Apartment  3313        Napeansea Road         1000.00   \n",
       "76036    2  Apartment  1305           Bandra East          425.00   \n",
       "76037    5  Apartment  5200  Bandra Kurla Complex         2500.00   \n",
       "\n",
       "       Price_per_sqft  \n",
       "0        36496.350365  \n",
       "1         8204.687500  \n",
       "2        28360.655738  \n",
       "3         6847.031963  \n",
       "4        14280.728376  \n",
       "...               ...  \n",
       "76033    45841.519319  \n",
       "76034    39357.166284  \n",
       "76035    30184.123151  \n",
       "76036    32567.049808  \n",
       "76037    48076.923077  \n",
       "\n",
       "[76038 rows x 6 columns]"
      ]
     },
     "execution_count": 31,
     "metadata": {},
     "output_type": "execute_result"
    }
   ],
   "source": [
    "df4['Price_per_sqft']=df4['amount_in_lakh']*100000/df4['area']\n",
    "df4"
   ]
  },
  {
   "cell_type": "code",
   "execution_count": 32,
   "id": "e5e2adde",
   "metadata": {},
   "outputs": [
    {
     "data": {
      "text/plain": [
       "bhk               0\n",
       "type              0\n",
       "area              0\n",
       "region            0\n",
       "amount_in_lakh    0\n",
       "Price_per_sqft    0\n",
       "dtype: int64"
      ]
     },
     "execution_count": 32,
     "metadata": {},
     "output_type": "execute_result"
    }
   ],
   "source": [
    "df4.isnull().sum()"
   ]
  },
  {
   "cell_type": "code",
   "execution_count": 33,
   "id": "fdb0819c",
   "metadata": {},
   "outputs": [
    {
     "data": {
      "text/html": [
       "<div>\n",
       "<style scoped>\n",
       "    .dataframe tbody tr th:only-of-type {\n",
       "        vertical-align: middle;\n",
       "    }\n",
       "\n",
       "    .dataframe tbody tr th {\n",
       "        vertical-align: top;\n",
       "    }\n",
       "\n",
       "    .dataframe thead th {\n",
       "        text-align: right;\n",
       "    }\n",
       "</style>\n",
       "<table border=\"1\" class=\"dataframe\">\n",
       "  <thead>\n",
       "    <tr style=\"text-align: right;\">\n",
       "      <th></th>\n",
       "      <th>bhk</th>\n",
       "      <th>type</th>\n",
       "      <th>area</th>\n",
       "      <th>region</th>\n",
       "      <th>amount_in_lakh</th>\n",
       "      <th>Price_per_sqft</th>\n",
       "    </tr>\n",
       "  </thead>\n",
       "  <tbody>\n",
       "    <tr>\n",
       "      <th>0</th>\n",
       "      <td>3</td>\n",
       "      <td>Apartment</td>\n",
       "      <td>685</td>\n",
       "      <td>Andheri West</td>\n",
       "      <td>250.00</td>\n",
       "      <td>36496.350365</td>\n",
       "    </tr>\n",
       "    <tr>\n",
       "      <th>1</th>\n",
       "      <td>2</td>\n",
       "      <td>Apartment</td>\n",
       "      <td>640</td>\n",
       "      <td>Naigaon East</td>\n",
       "      <td>52.51</td>\n",
       "      <td>8204.687500</td>\n",
       "    </tr>\n",
       "    <tr>\n",
       "      <th>2</th>\n",
       "      <td>2</td>\n",
       "      <td>Apartment</td>\n",
       "      <td>610</td>\n",
       "      <td>Borivali West</td>\n",
       "      <td>173.00</td>\n",
       "      <td>28360.655738</td>\n",
       "    </tr>\n",
       "    <tr>\n",
       "      <th>3</th>\n",
       "      <td>2</td>\n",
       "      <td>Apartment</td>\n",
       "      <td>876</td>\n",
       "      <td>Panvel</td>\n",
       "      <td>59.98</td>\n",
       "      <td>6847.031963</td>\n",
       "    </tr>\n",
       "    <tr>\n",
       "      <th>4</th>\n",
       "      <td>2</td>\n",
       "      <td>Apartment</td>\n",
       "      <td>659</td>\n",
       "      <td>Mira Road East</td>\n",
       "      <td>94.11</td>\n",
       "      <td>14280.728376</td>\n",
       "    </tr>\n",
       "    <tr>\n",
       "      <th>...</th>\n",
       "      <td>...</td>\n",
       "      <td>...</td>\n",
       "      <td>...</td>\n",
       "      <td>...</td>\n",
       "      <td>...</td>\n",
       "      <td>...</td>\n",
       "    </tr>\n",
       "    <tr>\n",
       "      <th>76033</th>\n",
       "      <td>3</td>\n",
       "      <td>Apartment</td>\n",
       "      <td>1527</td>\n",
       "      <td>Juhu</td>\n",
       "      <td>700.00</td>\n",
       "      <td>45841.519319</td>\n",
       "    </tr>\n",
       "    <tr>\n",
       "      <th>76034</th>\n",
       "      <td>5</td>\n",
       "      <td>Apartment</td>\n",
       "      <td>3049</td>\n",
       "      <td>Juhu</td>\n",
       "      <td>1200.00</td>\n",
       "      <td>39357.166284</td>\n",
       "    </tr>\n",
       "    <tr>\n",
       "      <th>76035</th>\n",
       "      <td>4</td>\n",
       "      <td>Apartment</td>\n",
       "      <td>3313</td>\n",
       "      <td>Napeansea Road</td>\n",
       "      <td>1000.00</td>\n",
       "      <td>30184.123151</td>\n",
       "    </tr>\n",
       "    <tr>\n",
       "      <th>76036</th>\n",
       "      <td>2</td>\n",
       "      <td>Apartment</td>\n",
       "      <td>1305</td>\n",
       "      <td>Bandra East</td>\n",
       "      <td>425.00</td>\n",
       "      <td>32567.049808</td>\n",
       "    </tr>\n",
       "    <tr>\n",
       "      <th>76037</th>\n",
       "      <td>5</td>\n",
       "      <td>Apartment</td>\n",
       "      <td>5200</td>\n",
       "      <td>Bandra Kurla Complex</td>\n",
       "      <td>2500.00</td>\n",
       "      <td>48076.923077</td>\n",
       "    </tr>\n",
       "  </tbody>\n",
       "</table>\n",
       "<p>76038 rows × 6 columns</p>\n",
       "</div>"
      ],
      "text/plain": [
       "       bhk       type  area                region  amount_in_lakh  \\\n",
       "0        3  Apartment   685          Andheri West          250.00   \n",
       "1        2  Apartment   640          Naigaon East           52.51   \n",
       "2        2  Apartment   610         Borivali West          173.00   \n",
       "3        2  Apartment   876                Panvel           59.98   \n",
       "4        2  Apartment   659        Mira Road East           94.11   \n",
       "...    ...        ...   ...                   ...             ...   \n",
       "76033    3  Apartment  1527                  Juhu          700.00   \n",
       "76034    5  Apartment  3049                  Juhu         1200.00   \n",
       "76035    4  Apartment  3313        Napeansea Road         1000.00   \n",
       "76036    2  Apartment  1305           Bandra East          425.00   \n",
       "76037    5  Apartment  5200  Bandra Kurla Complex         2500.00   \n",
       "\n",
       "       Price_per_sqft  \n",
       "0        36496.350365  \n",
       "1         8204.687500  \n",
       "2        28360.655738  \n",
       "3         6847.031963  \n",
       "4        14280.728376  \n",
       "...               ...  \n",
       "76033    45841.519319  \n",
       "76034    39357.166284  \n",
       "76035    30184.123151  \n",
       "76036    32567.049808  \n",
       "76037    48076.923077  \n",
       "\n",
       "[76038 rows x 6 columns]"
      ]
     },
     "execution_count": 33,
     "metadata": {},
     "output_type": "execute_result"
    }
   ],
   "source": [
    "df5=df4.dropna()\n",
    "df5"
   ]
  },
  {
   "cell_type": "code",
   "execution_count": 34,
   "id": "2d423495",
   "metadata": {},
   "outputs": [
    {
     "data": {
      "text/plain": [
       "bhk               0\n",
       "type              0\n",
       "area              0\n",
       "region            0\n",
       "amount_in_lakh    0\n",
       "Price_per_sqft    0\n",
       "dtype: int64"
      ]
     },
     "execution_count": 34,
     "metadata": {},
     "output_type": "execute_result"
    }
   ],
   "source": [
    "df5.isnull().sum()"
   ]
  },
  {
   "cell_type": "code",
   "execution_count": 35,
   "id": "87b8b3e6",
   "metadata": {},
   "outputs": [
    {
     "data": {
      "text/plain": [
       "228"
      ]
     },
     "execution_count": 35,
     "metadata": {},
     "output_type": "execute_result"
    }
   ],
   "source": [
    "len(df5.region.unique())"
   ]
  },
  {
   "cell_type": "code",
   "execution_count": 36,
   "id": "74bb6ade",
   "metadata": {},
   "outputs": [
    {
     "data": {
      "text/plain": [
       "0                Andheri West\n",
       "1                Naigaon East\n",
       "2               Borivali West\n",
       "3                      Panvel\n",
       "4              Mira Road East\n",
       "                 ...         \n",
       "76033                    Juhu\n",
       "76034                    Juhu\n",
       "76035          Napeansea Road\n",
       "76036             Bandra East\n",
       "76037    Bandra Kurla Complex\n",
       "Name: region, Length: 76038, dtype: object"
      ]
     },
     "execution_count": 36,
     "metadata": {},
     "output_type": "execute_result"
    }
   ],
   "source": [
    "df5.region"
   ]
  },
  {
   "cell_type": "code",
   "execution_count": 37,
   "id": "216ae8d0",
   "metadata": {},
   "outputs": [
    {
     "data": {
      "text/plain": [
       "region\n",
       "Thane West         14868\n",
       "Mira Road East      9902\n",
       "Dombivali           3041\n",
       "Kandivali East      2568\n",
       "Kharghar            2362\n",
       "                   ...  \n",
       "Police Colony          1\n",
       "GTB Nagar              1\n",
       "Bandra                 1\n",
       "Sector 14 Vashi        1\n",
       "Goregaon               1\n",
       "Name: count, Length: 228, dtype: int64"
      ]
     },
     "execution_count": 37,
     "metadata": {},
     "output_type": "execute_result"
    }
   ],
   "source": [
    "df5['region']=df5['region'].apply(lambda x:x.strip())\n",
    "region_stats = df5['region'].value_counts(ascending=False)\n",
    "region_stats"
   ]
  },
  {
   "cell_type": "code",
   "execution_count": 38,
   "id": "e19c21ff",
   "metadata": {},
   "outputs": [
    {
     "data": {
      "text/plain": [
       "114"
      ]
     },
     "execution_count": 38,
     "metadata": {},
     "output_type": "execute_result"
    }
   ],
   "source": [
    "len(region_stats[region_stats>10])"
   ]
  },
  {
   "cell_type": "code",
   "execution_count": 39,
   "id": "9ff525a9",
   "metadata": {},
   "outputs": [
    {
     "data": {
      "text/plain": [
       "114"
      ]
     },
     "execution_count": 39,
     "metadata": {},
     "output_type": "execute_result"
    }
   ],
   "source": [
    "len(region_stats[region_stats<=10])"
   ]
  },
  {
   "cell_type": "code",
   "execution_count": 40,
   "id": "5b03ae95",
   "metadata": {},
   "outputs": [
    {
     "data": {
      "text/plain": [
       "region\n",
       "Kanjurmarg East      10\n",
       "Vasind               10\n",
       "Sector 20 Kamothe    10\n",
       "Koproli              10\n",
       "Cuffe Parade          9\n",
       "                     ..\n",
       "Police Colony         1\n",
       "GTB Nagar             1\n",
       "Bandra                1\n",
       "Sector 14 Vashi       1\n",
       "Goregaon              1\n",
       "Name: count, Length: 114, dtype: int64"
      ]
     },
     "execution_count": 40,
     "metadata": {},
     "output_type": "execute_result"
    }
   ],
   "source": [
    "region_stats_less_than_10 = region_stats[region_stats<=10]\n",
    "region_stats_less_than_10"
   ]
  },
  {
   "cell_type": "code",
   "execution_count": 41,
   "id": "bb29cdd5",
   "metadata": {},
   "outputs": [
    {
     "data": {
      "text/plain": [
       "115"
      ]
     },
     "execution_count": 41,
     "metadata": {},
     "output_type": "execute_result"
    }
   ],
   "source": [
    "df5.region = df5.region.apply(lambda x: 'other' if x in region_stats_less_than_10 else x)\n",
    "len(df5.region.unique())"
   ]
  },
  {
   "cell_type": "code",
   "execution_count": 42,
   "id": "fcef9ddb",
   "metadata": {},
   "outputs": [
    {
     "data": {
      "text/html": [
       "<div>\n",
       "<style scoped>\n",
       "    .dataframe tbody tr th:only-of-type {\n",
       "        vertical-align: middle;\n",
       "    }\n",
       "\n",
       "    .dataframe tbody tr th {\n",
       "        vertical-align: top;\n",
       "    }\n",
       "\n",
       "    .dataframe thead th {\n",
       "        text-align: right;\n",
       "    }\n",
       "</style>\n",
       "<table border=\"1\" class=\"dataframe\">\n",
       "  <thead>\n",
       "    <tr style=\"text-align: right;\">\n",
       "      <th></th>\n",
       "      <th>bhk</th>\n",
       "      <th>type</th>\n",
       "      <th>area</th>\n",
       "      <th>region</th>\n",
       "      <th>amount_in_lakh</th>\n",
       "      <th>Price_per_sqft</th>\n",
       "    </tr>\n",
       "  </thead>\n",
       "  <tbody>\n",
       "    <tr>\n",
       "      <th>0</th>\n",
       "      <td>3</td>\n",
       "      <td>Apartment</td>\n",
       "      <td>685</td>\n",
       "      <td>Andheri West</td>\n",
       "      <td>250.00</td>\n",
       "      <td>36496.350365</td>\n",
       "    </tr>\n",
       "    <tr>\n",
       "      <th>1</th>\n",
       "      <td>2</td>\n",
       "      <td>Apartment</td>\n",
       "      <td>640</td>\n",
       "      <td>Naigaon East</td>\n",
       "      <td>52.51</td>\n",
       "      <td>8204.687500</td>\n",
       "    </tr>\n",
       "    <tr>\n",
       "      <th>2</th>\n",
       "      <td>2</td>\n",
       "      <td>Apartment</td>\n",
       "      <td>610</td>\n",
       "      <td>Borivali West</td>\n",
       "      <td>173.00</td>\n",
       "      <td>28360.655738</td>\n",
       "    </tr>\n",
       "    <tr>\n",
       "      <th>3</th>\n",
       "      <td>2</td>\n",
       "      <td>Apartment</td>\n",
       "      <td>876</td>\n",
       "      <td>Panvel</td>\n",
       "      <td>59.98</td>\n",
       "      <td>6847.031963</td>\n",
       "    </tr>\n",
       "    <tr>\n",
       "      <th>4</th>\n",
       "      <td>2</td>\n",
       "      <td>Apartment</td>\n",
       "      <td>659</td>\n",
       "      <td>Mira Road East</td>\n",
       "      <td>94.11</td>\n",
       "      <td>14280.728376</td>\n",
       "    </tr>\n",
       "  </tbody>\n",
       "</table>\n",
       "</div>"
      ],
      "text/plain": [
       "   bhk       type  area          region  amount_in_lakh  Price_per_sqft\n",
       "0    3  Apartment   685    Andheri West          250.00    36496.350365\n",
       "1    2  Apartment   640    Naigaon East           52.51     8204.687500\n",
       "2    2  Apartment   610   Borivali West          173.00    28360.655738\n",
       "3    2  Apartment   876          Panvel           59.98     6847.031963\n",
       "4    2  Apartment   659  Mira Road East           94.11    14280.728376"
      ]
     },
     "execution_count": 42,
     "metadata": {},
     "output_type": "execute_result"
    }
   ],
   "source": [
    "df5.head()"
   ]
  },
  {
   "cell_type": "code",
   "execution_count": 43,
   "id": "da2188fd",
   "metadata": {},
   "outputs": [
    {
     "data": {
      "text/plain": [
       "bhk                 int64\n",
       "type               object\n",
       "area                int64\n",
       "region             object\n",
       "amount_in_lakh    float64\n",
       "Price_per_sqft    float64\n",
       "dtype: object"
      ]
     },
     "execution_count": 43,
     "metadata": {},
     "output_type": "execute_result"
    }
   ],
   "source": [
    "df5.dtypes"
   ]
  },
  {
   "cell_type": "code",
   "execution_count": 44,
   "id": "dc8b64cc",
   "metadata": {},
   "outputs": [
    {
     "data": {
      "text/html": [
       "<div>\n",
       "<style scoped>\n",
       "    .dataframe tbody tr th:only-of-type {\n",
       "        vertical-align: middle;\n",
       "    }\n",
       "\n",
       "    .dataframe tbody tr th {\n",
       "        vertical-align: top;\n",
       "    }\n",
       "\n",
       "    .dataframe thead th {\n",
       "        text-align: right;\n",
       "    }\n",
       "</style>\n",
       "<table border=\"1\" class=\"dataframe\">\n",
       "  <thead>\n",
       "    <tr style=\"text-align: right;\">\n",
       "      <th></th>\n",
       "      <th>bhk</th>\n",
       "      <th>type</th>\n",
       "      <th>area</th>\n",
       "      <th>region</th>\n",
       "      <th>amount_in_lakh</th>\n",
       "      <th>Price_per_sqft</th>\n",
       "    </tr>\n",
       "  </thead>\n",
       "  <tbody>\n",
       "    <tr>\n",
       "      <th>0</th>\n",
       "      <td>3</td>\n",
       "      <td>Apartment</td>\n",
       "      <td>685</td>\n",
       "      <td>Andheri West</td>\n",
       "      <td>250.0</td>\n",
       "      <td>36496.350365</td>\n",
       "    </tr>\n",
       "    <tr>\n",
       "      <th>49</th>\n",
       "      <td>3</td>\n",
       "      <td>Apartment</td>\n",
       "      <td>685</td>\n",
       "      <td>Andheri West</td>\n",
       "      <td>250.0</td>\n",
       "      <td>36496.350365</td>\n",
       "    </tr>\n",
       "    <tr>\n",
       "      <th>131</th>\n",
       "      <td>2</td>\n",
       "      <td>Apartment</td>\n",
       "      <td>486</td>\n",
       "      <td>Badlapur East</td>\n",
       "      <td>36.0</td>\n",
       "      <td>7407.407407</td>\n",
       "    </tr>\n",
       "    <tr>\n",
       "      <th>132</th>\n",
       "      <td>2</td>\n",
       "      <td>Apartment</td>\n",
       "      <td>486</td>\n",
       "      <td>Badlapur East</td>\n",
       "      <td>36.0</td>\n",
       "      <td>7407.407407</td>\n",
       "    </tr>\n",
       "    <tr>\n",
       "      <th>457</th>\n",
       "      <td>2</td>\n",
       "      <td>Studio Apartment</td>\n",
       "      <td>415</td>\n",
       "      <td>Girgaon</td>\n",
       "      <td>95.0</td>\n",
       "      <td>22891.566265</td>\n",
       "    </tr>\n",
       "  </tbody>\n",
       "</table>\n",
       "</div>"
      ],
      "text/plain": [
       "     bhk              type  area         region  amount_in_lakh  \\\n",
       "0      3         Apartment   685   Andheri West           250.0   \n",
       "49     3         Apartment   685   Andheri West           250.0   \n",
       "131    2         Apartment   486  Badlapur East            36.0   \n",
       "132    2         Apartment   486  Badlapur East            36.0   \n",
       "457    2  Studio Apartment   415        Girgaon            95.0   \n",
       "\n",
       "     Price_per_sqft  \n",
       "0      36496.350365  \n",
       "49     36496.350365  \n",
       "131     7407.407407  \n",
       "132     7407.407407  \n",
       "457    22891.566265  "
      ]
     },
     "execution_count": 44,
     "metadata": {},
     "output_type": "execute_result"
    }
   ],
   "source": [
    "df5[df5.area/df5.bhk<250].head()"
   ]
  },
  {
   "cell_type": "code",
   "execution_count": 45,
   "id": "21955ac6",
   "metadata": {},
   "outputs": [
    {
     "data": {
      "text/plain": [
       "(75064, 6)"
      ]
     },
     "execution_count": 45,
     "metadata": {},
     "output_type": "execute_result"
    }
   ],
   "source": [
    "df6 = df5[~(df5.area/df5.bhk<250)]\n",
    "df6.shape"
   ]
  },
  {
   "cell_type": "code",
   "execution_count": 46,
   "id": "368c05d3",
   "metadata": {},
   "outputs": [
    {
     "data": {
      "text/plain": [
       "count     75064.000000\n",
       "mean      15092.463559\n",
       "std        9344.443260\n",
       "min         646.766169\n",
       "25%        8548.627589\n",
       "50%       12956.521739\n",
       "75%       19444.444444\n",
       "max      182307.692308\n",
       "Name: Price_per_sqft, dtype: float64"
      ]
     },
     "execution_count": 46,
     "metadata": {},
     "output_type": "execute_result"
    }
   ],
   "source": [
    "df6.Price_per_sqft.describe()"
   ]
  },
  {
   "cell_type": "code",
   "execution_count": 47,
   "id": "66924656",
   "metadata": {},
   "outputs": [
    {
     "data": {
      "text/plain": [
       "(75064, 6)"
      ]
     },
     "execution_count": 47,
     "metadata": {},
     "output_type": "execute_result"
    }
   ],
   "source": [
    "df6.shape"
   ]
  },
  {
   "cell_type": "code",
   "execution_count": 48,
   "id": "fe5c0d93",
   "metadata": {},
   "outputs": [
    {
     "data": {
      "text/plain": [
       "(57399, 6)"
      ]
     },
     "execution_count": 48,
     "metadata": {},
     "output_type": "execute_result"
    }
   ],
   "source": [
    "def remove_pps_outliers(df):\n",
    "    df_out = pd.DataFrame()\n",
    "    for key, subdf in df.groupby('region'):\n",
    "        m = np.mean(subdf.Price_per_sqft)\n",
    "        st = np.std(subdf.Price_per_sqft)\n",
    "        reduced_df = subdf[(subdf.Price_per_sqft>(m-st)) & (subdf.Price_per_sqft<=(m+st))]\n",
    "        df_out = pd.concat([df_out,reduced_df],ignore_index=True)\n",
    "    return df_out\n",
    "df6 = remove_pps_outliers(df5)\n",
    "df6.shape"
   ]
  },
  {
   "cell_type": "code",
   "execution_count": 49,
   "id": "d5029589",
   "metadata": {},
   "outputs": [
    {
     "data": {
      "text/plain": [
       "Text(0, 0.5, 'Count')"
      ]
     },
     "execution_count": 49,
     "metadata": {},
     "output_type": "execute_result"
    },
    {
     "data": {
      "image/png": "[encoded data removed]",
      "text/plain": [
       "<Figure size 2000x1000 with 1 Axes>"
      ]
     },
     "metadata": {},
     "output_type": "display_data"
    }
   ],
   "source": [
    "import matplotlib\n",
    "matplotlib.rcParams[\"figure.figsize\"] = (20,10)\n",
    "plt.hist(df6.Price_per_sqft,rwidth=0.8)\n",
    "plt.xlabel(\"Price per sqft\")\n",
    "plt.ylabel(\"Count\")"
   ]
  },
  {
   "cell_type": "code",
   "execution_count": 52,
   "id": "39fb3e0c",
   "metadata": {},
   "outputs": [
    {
     "data": {
      "text/plain": [
       "array(['Agripada', 'Airoli', 'Ambarnath', 'Ambernath East',\n",
       "       'Ambernath West', 'Andheri East', 'Andheri West', 'Anjurdive',\n",
       "       'Badlapur East', 'Badlapur West', 'Bandra East',\n",
       "       'Bandra Kurla Complex', 'Bandra West', 'Belapur', 'Bhandup East',\n",
       "       'Bhandup West', 'Bhayandar East', 'Bhayandar West', 'Bhiwandi',\n",
       "       'Boisar', 'Borivali East', 'Borivali West', 'Byculla', 'Chembur',\n",
       "       'Colaba', 'Dadar East', 'Dadar West', 'Dahisar', 'Deonar', 'Diva',\n",
       "       'Dombivali', 'Dombivali East', 'Dronagiri', 'Ghansoli',\n",
       "       'Ghatkopar East', 'Ghatkopar West', 'Girgaon', 'Goregaon East',\n",
       "       'Goregaon West', 'Jogeshwari East', 'Jogeshwari West', 'Juhu',\n",
       "       'Juinagar', 'Kalamboli', 'Kalwa', 'Kalyan East', 'Kalyan West',\n",
       "       'Kamothe', 'Kandivali East', 'Kandivali West', 'Kanjurmarg',\n",
       "       'Karanjade', 'Karjat', 'Kasheli', 'Khar', 'Kharghar', 'Khopoli',\n",
       "       'Koper Khairane', 'Kurla', 'Lower Parel', 'Mahalaxmi', 'Mahim',\n",
       "       'Malad East', 'Malad West', 'Marine Lines', 'Matunga', 'Mazagaon',\n",
       "       'Mazgaon', 'Mira Road East', 'Mulund East', 'Mulund West',\n",
       "       'Nahur East', 'Naigaon East', 'Nala Sopara', 'Nalasopara East',\n",
       "       'Napeansea Road', 'Neral', 'Nerul', 'Nilje Gaon', 'Palghar',\n",
       "       'Panvel', 'Parel', 'Patlipada', 'Powai', 'Prabhadevi', 'Rasayani',\n",
       "       'Sanpada', 'Santacruz East', 'Santacruz West', 'Saphale',\n",
       "       'Seawoods', 'Sector 21 Kamothe', 'Sewri', 'Shil Phata', 'Sion',\n",
       "       'Taloja', 'Taloje', 'Tardeo', 'Thane East', 'Thane West',\n",
       "       'Titwala', 'Ulhasnagar', 'Ulwe', 'Umroli', 'Vangani', 'Vasai',\n",
       "       'Vashi', 'Vikhroli', 'Ville Parle East', 'Ville Parle West',\n",
       "       'Virar', 'Virar West', 'Wadala', 'Worli', 'other'], dtype=object)"
      ]
     },
     "execution_count": 52,
     "metadata": {},
     "output_type": "execute_result"
    }
   ],
   "source": [
    "df6['region'].unique()"
   ]
  },
  {
   "cell_type": "code",
   "execution_count": 56,
   "id": "e1a2648b",
   "metadata": {},
   "outputs": [
    {
     "data": {
      "image/png": "[encoded data removed]",
      "text/plain": [
       "<Figure size 1500x1000 with 1 Axes>"
      ]
     },
     "metadata": {},
     "output_type": "display_data"
    }
   ],
   "source": [
    "import matplotlib.pyplot as plt\n",
    "import matplotlib\n",
    "\n",
    "def chart(df, region):\n",
    "    bhk2 = df[(df.region == region) & (df.bhk == 2)]\n",
    "    bhk3 = df[(df.region == region) & (df.bhk == 3)]\n",
    "    \n",
    "    matplotlib.rcParams['figure.figsize'] = (15, 10)\n",
    "    \n",
    "    plt.scatter(bhk2.area, bhk2.amount_in_lakh, color='blue', label='2 BHK', s=50)\n",
    "    plt.scatter(bhk3.area, bhk3.amount_in_lakh, marker='+', color='green', label='3 BHK', s=50)\n",
    "    \n",
    "    plt.xlabel(\"Total Square Feet Area\")\n",
    "    plt.ylabel(\"Price (Lakh Indian Rupees)\")\n",
    "    plt.title(region)\n",
    "    plt.legend()\n",
    "\n",
    "# Assuming you have defined the 'df10' DataFrame earlier\n",
    "chart(df6, \"Agripada\")\n",
    "plt.show()"
   ]
  },
  {
   "cell_type": "code",
   "execution_count": null,
   "id": "59788c1f",
   "metadata": {},
   "outputs": [],
   "source": [
    "chart(df6,'Andheri West')"
   ]
  },
  {
   "cell_type": "code",
   "execution_count": null,
   "id": "c8cb5c59",
   "metadata": {},
   "outputs": [],
   "source": []
  }
 ],
 "metadata": {
  "kernelspec": {
   "display_name": "Python 3 (ipykernel)",
   "language": "python",
   "name": "python3"
  },
  "language_info": {
   "codemirror_mode": {
    "name": "ipython",
    "version": 3
   },
   "file_extension": ".py",
   "mimetype": "text/x-python",
   "name": "python",
   "nbconvert_exporter": "python",
   "pygments_lexer": "ipython3",
   "version": "3.11.3"
  }
 },
 "nbformat": 4,
 "nbformat_minor": 5
}
